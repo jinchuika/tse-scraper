{
 "cells": [
  {
   "cell_type": "markdown",
   "metadata": {},
   "source": [
    "Recuerda que debes instalar `pandas` antes de poder ejecutar este Notebook. Mi recomendación, si no tienes experiencia en ello, es que descargues [Anaconda](https://www.anaconda.com/). Con esta distribución de Python tendrás acceso a muchas herramientas de desarrollo científico y de análisis de datos en una forma amigable.\n",
    "\n",
    "Si no deseas utilizar Anaconda, siempre puedes instalar pandas utilizando `pip install pandas`."
   ]
  },
  {
   "cell_type": "code",
   "execution_count": 1,
   "metadata": {},
   "outputs": [],
   "source": [
    "import pandas as pd\n",
    "import os\n",
    "import json\n",
    "from collections import defaultdict"
   ]
  },
  {
   "cell_type": "code",
   "execution_count": 2,
   "metadata": {},
   "outputs": [],
   "source": [
    "# cargar el contenido de todos los archivos JSON a memoria\n",
    "all_data = []\n",
    "for file_name in os.listdir('../output/raw'):\n",
    "    with open(f'../output/raw/{file_name}', 'r') as f:\n",
    "        all_data.append(json.load(f))\n",
    "\n",
    "# crear un archivo unificado que contenga los datos\n",
    "with open('../output/final/resultados.json', 'w') as f:\n",
    "    json.dump(all_data, f, ensure_ascii=False)"
   ]
  },
  {
   "cell_type": "code",
   "execution_count": 3,
   "metadata": {},
   "outputs": [],
   "source": [
    "# Crear datos de elección para presidente\n",
    "structured_data = []\n",
    "for mesa in all_data:\n",
    "    n_rec = {}\n",
    "    for record in mesa['TE'][0].keys():\n",
    "        n_rec['NROMESA'] = mesa['NROMESA']\n",
    "        if record != 'VOTOSTE0':\n",
    "            n_rec[record] = mesa['TE'][0][record]\n",
    "        else:\n",
    "            for votos in mesa['TE'][0]['VOTOSTE0']:\n",
    "                n_rec[f\"voto_{votos['D'].replace(' ', '_')}\"] = int(votos['V'])\n",
    "    structured_data.append(n_rec)\n",
    "\n",
    "# convertir la lista en un dataframe de pandas\n",
    "main_df = pd.DataFrame(structured_data)\n",
    "main_df.to_csv('../output/final/resultados.csv', index=None)"
   ]
  },
  {
   "cell_type": "code",
   "execution_count": 4,
   "metadata": {},
   "outputs": [],
   "source": [
    "# Diputados listado nacional\n",
    "structured_data = []\n",
    "for mesa in all_data:\n",
    "    n_rec = {}\n",
    "    try:\n",
    "        for record in mesa['TE'][1].keys():\n",
    "            if record != 'VOTOSTE1':\n",
    "                n_rec[record] = mesa['TE'][1][record]\n",
    "            else:\n",
    "                for votos in mesa['TE'][1]['VOTOSTE1']:\n",
    "                    n_rec[f\"voto_{votos['D'].replace(' ', '_')}\"] = int(votos['V'])\n",
    "        structured_data.append(n_rec)\n",
    "    except IndexError:\n",
    "        pass\n",
    "\n",
    "# convertir los datos a un dataframe de pandas y exportarlos\n",
    "dn_df = pd.DataFrame(structured_data)\n",
    "dn_df.to_csv('../output/final/resultados_dn.csv', index=None)"
   ]
  },
  {
   "cell_type": "code",
   "execution_count": 5,
   "metadata": {},
   "outputs": [],
   "source": [
    "# diputados distritales\n",
    "diputados_dict = defaultdict(list)\n",
    "for mesa in all_data:\n",
    "    n_rec = {}\n",
    "    try:\n",
    "        for record in mesa['TE'][2].keys():\n",
    "            n_rec['NROMESA'] = mesa['NROMESA']\n",
    "            if record != 'VOTOSTE2':\n",
    "                n_rec[record] = mesa['TE'][2][record]\n",
    "            else:\n",
    "                for votos in mesa['TE'][2]['VOTOSTE2']:\n",
    "                    n_rec[f\"voto_{votos['D'].replace(' ', '_')}\"] = int(votos['V'])\n",
    "        diputados_dict[mesa[\"TE\"][2][\"DEP\"]].append(n_rec)\n",
    "    except IndexError:\n",
    "        # validando que las mesas de guatemaltecos en USA eran diferentes\n",
    "        pass\n",
    "    except KeyError:\n",
    "        pass\n",
    "\n",
    "# exportar cada registro a un archivo individual\n",
    "for departamento in diputados_dict.keys():\n",
    "    pd.DataFrame(diputados_dict[departamento]).to_csv(f'../output/final/diputados/{departamento}.csv', index=None)"
   ]
  },
  {
   "cell_type": "code",
   "execution_count": 6,
   "metadata": {
    "scrolled": true
   },
   "outputs": [],
   "source": [
    "# municipios\n",
    "muni_dict = defaultdict(list)\n",
    "for index, mesa in enumerate(all_data):\n",
    "    n_rec = {}\n",
    "    try:\n",
    "        for record in mesa['TE'][3].keys():\n",
    "            n_rec['NROMESA'] = mesa['NROMESA']\n",
    "            if record != 'VOTOSTE3':\n",
    "                n_rec[record] = mesa['TE'][3][record]\n",
    "            else:\n",
    "                for votos in mesa['TE'][3]['VOTOSTE3']:\n",
    "                    n_rec[f\"voto_{votos['D'].replace(' ', '_')}\"] = int(votos['V'])\n",
    "        muni_dict[f'{mesa[\"TE\"][3][\"DEP\"]}-{mesa[\"TE\"][3][\"MUN\"]}'].append(n_rec)\n",
    "    except IndexError:\n",
    "        # validando que las mesas de guatemaltecos en USA eran diferentes\n",
    "        pass\n",
    "    except KeyError:\n",
    "        pass\n",
    "\n",
    "# exportar cada registro a un archivo individual\n",
    "for municipio in muni_dict.keys():\n",
    "    pd.DataFrame(muni_dict[municipio]).to_csv(f'../output/final/municipios/{municipio}.csv', index=None)"
   ]
  }
 ],
 "metadata": {
  "kernelspec": {
   "display_name": "Python 3",
   "language": "python",
   "name": "python3"
  },
  "language_info": {
   "codemirror_mode": {
    "name": "ipython",
    "version": 3
   },
   "file_extension": ".py",
   "mimetype": "text/x-python",
   "name": "python",
   "nbconvert_exporter": "python",
   "pygments_lexer": "ipython3",
   "version": "3.6.8"
  }
 },
 "nbformat": 4,
 "nbformat_minor": 2
}
